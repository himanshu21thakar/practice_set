{
  "nbformat": 4,
  "nbformat_minor": 0,
  "metadata": {
    "colab": {
      "provenance": []
    },
    "kernelspec": {
      "name": "python3",
      "display_name": "Python 3"
    },
    "language_info": {
      "name": "python"
    }
  },
  "cells": [
    {
      "cell_type": "code",
      "source": [
        "import pandas as pd\n",
        "from sklearn.model_selection import train_test_split\n",
        "from sklearn.preprocessing import LabelEncoder\n",
        "from sklearn.metrics import accuracy_score, classification_report\n",
        "\n",
        "# Models\n",
        "from sklearn.tree import DecisionTreeClassifier\n",
        "from sklearn.ensemble import RandomForestClassifier, AdaBoostClassifier\n",
        "from xgboost import XGBClassifier\n",
        "from catboost import CatBoostClassifier\n",
        "\n",
        "# =====================\n",
        "# 1. Load Data\n",
        "# =====================\n",
        "df = pd.read_csv(\"Telco-Customer-Churn.csv\")\n",
        "\n",
        "# Drop ID column\n",
        "df = df.drop(\"customerID\", axis=1)\n",
        "\n",
        "# Convert TotalCharges to numeric (handle missing)\n",
        "df[\"TotalCharges\"] = pd.to_numeric(df[\"TotalCharges\"], errors=\"coerce\")\n",
        "df[\"TotalCharges\"] = df[\"TotalCharges\"].fillna(df[\"TotalCharges\"].median())\n",
        "\n",
        "# Encode categorical variables\n",
        "le = LabelEncoder()\n",
        "for col in df.select_dtypes(include=\"object\").columns:\n",
        "    df[col] = le.fit_transform(df[col])\n",
        "\n",
        "# Split features & target\n",
        "X = df.drop(\"Churn\", axis=1)\n",
        "y = df[\"Churn\"]\n",
        "\n",
        "X_train, X_test, y_train, y_test = train_test_split(\n",
        "    X, y, test_size=0.2, stratify=y, random_state=42\n",
        ")\n",
        "\n",
        "# =====================\n",
        "# 2. Models\n",
        "# =====================\n",
        "models = {\n",
        "    \"Decision Tree\": DecisionTreeClassifier(max_depth=6, random_state=42),\n",
        "    \"Random Forest\": RandomForestClassifier(n_estimators=100, random_state=42),\n",
        "    \"AdaBoost\": AdaBoostClassifier(n_estimators=100, random_state=42),\n",
        "    \"XGBoost\": XGBClassifier(n_estimators=100, use_label_encoder=False, eval_metric=\"logloss\", random_state=42),\n",
        "    \"CatBoost\": CatBoostClassifier(iterations=100, verbose=0, random_state=42)\n",
        "}\n",
        "\n",
        "# =====================\n",
        "# 3. Train & Evaluate\n",
        "# =====================\n",
        "results = {}\n",
        "\n",
        "for name, model in models.items():\n",
        "    print(f\"\\n================= {name} =================\")\n",
        "\n",
        "    # Train\n",
        "    model.fit(X_train, y_train)\n",
        "\n",
        "    # Predict\n",
        "    y_pred = model.predict(X_test)\n",
        "\n",
        "    # Accuracy\n",
        "    acc = accuracy_score(y_test, y_pred)\n",
        "    results[name] = acc\n",
        "\n",
        "    # Report\n",
        "    print(f\"✅ Accuracy: {acc:.4f}\")\n",
        "    print(classification_report(y_test, y_pred))\n",
        "\n",
        "# =====================\n",
        "# 4. Compare\n",
        "# =====================\n",
        "print(\"\\n🔎 Model Performance Summary:\")\n",
        "for model, acc in results.items():\n",
        "    print(f\"{model:15s} -> Accuracy: {acc:.4f}\")"
      ],
      "metadata": {
        "colab": {
          "base_uri": "https://localhost:8080/"
        },
        "id": "B2zO1hI-HkIy",
        "outputId": "9978bd50-46c8-48a8-8228-6aa043718e7f"
      },
      "execution_count": 3,
      "outputs": [
        {
          "output_type": "stream",
          "name": "stdout",
          "text": [
            "\n",
            "================= Decision Tree =================\n",
            "✅ Accuracy: 0.7842\n",
            "              precision    recall  f1-score   support\n",
            "\n",
            "           0       0.84      0.87      0.86      1035\n",
            "           1       0.60      0.55      0.57       374\n",
            "\n",
            "    accuracy                           0.78      1409\n",
            "   macro avg       0.72      0.71      0.71      1409\n",
            "weighted avg       0.78      0.78      0.78      1409\n",
            "\n",
            "\n",
            "================= Random Forest =================\n",
            "✅ Accuracy: 0.7921\n",
            "              precision    recall  f1-score   support\n",
            "\n",
            "           0       0.83      0.90      0.86      1035\n",
            "           1       0.64      0.50      0.56       374\n",
            "\n",
            "    accuracy                           0.79      1409\n",
            "   macro avg       0.74      0.70      0.71      1409\n",
            "weighted avg       0.78      0.79      0.78      1409\n",
            "\n",
            "\n",
            "================= AdaBoost =================\n",
            "✅ Accuracy: 0.7977\n",
            "              precision    recall  f1-score   support\n",
            "\n",
            "           0       0.84      0.89      0.87      1035\n",
            "           1       0.64      0.55      0.59       374\n",
            "\n",
            "    accuracy                           0.80      1409\n",
            "   macro avg       0.74      0.72      0.73      1409\n",
            "weighted avg       0.79      0.80      0.79      1409\n",
            "\n",
            "\n",
            "================= XGBoost =================\n",
            "✅ Accuracy: 0.7786\n"
          ]
        },
        {
          "output_type": "stream",
          "name": "stderr",
          "text": [
            "/usr/local/lib/python3.12/dist-packages/xgboost/training.py:183: UserWarning: [07:56:46] WARNING: /workspace/src/learner.cc:738: \n",
            "Parameters: { \"use_label_encoder\" } are not used.\n",
            "\n",
            "  bst.update(dtrain, iteration=i, fobj=obj)\n"
          ]
        },
        {
          "output_type": "stream",
          "name": "stdout",
          "text": [
            "              precision    recall  f1-score   support\n",
            "\n",
            "           0       0.83      0.87      0.85      1035\n",
            "           1       0.60      0.52      0.55       374\n",
            "\n",
            "    accuracy                           0.78      1409\n",
            "   macro avg       0.71      0.69      0.70      1409\n",
            "weighted avg       0.77      0.78      0.77      1409\n",
            "\n",
            "\n",
            "================= CatBoost =================\n",
            "✅ Accuracy: 0.8041\n",
            "              precision    recall  f1-score   support\n",
            "\n",
            "           0       0.84      0.91      0.87      1035\n",
            "           1       0.67      0.51      0.58       374\n",
            "\n",
            "    accuracy                           0.80      1409\n",
            "   macro avg       0.75      0.71      0.73      1409\n",
            "weighted avg       0.79      0.80      0.80      1409\n",
            "\n",
            "\n",
            "🔎 Model Performance Summary:\n",
            "Decision Tree   -> Accuracy: 0.7842\n",
            "Random Forest   -> Accuracy: 0.7921\n",
            "AdaBoost        -> Accuracy: 0.7977\n",
            "XGBoost         -> Accuracy: 0.7786\n",
            "CatBoost        -> Accuracy: 0.8041\n"
          ]
        }
      ]
    },
    {
      "cell_type": "code",
      "execution_count": 4,
      "metadata": {
        "colab": {
          "base_uri": "https://localhost:8080/"
        },
        "id": "pcxloCSXHZrk",
        "outputId": "d0414d28-e876-48a8-8eae-ab3965ce5358"
      },
      "outputs": [
        {
          "output_type": "stream",
          "name": "stderr",
          "text": [
            "/usr/local/lib/python3.12/dist-packages/xgboost/training.py:183: UserWarning: [07:56:51] WARNING: /workspace/src/learner.cc:738: \n",
            "Parameters: { \"use_label_encoder\" } are not used.\n",
            "\n",
            "  bst.update(dtrain, iteration=i, fobj=obj)\n"
          ]
        },
        {
          "output_type": "stream",
          "name": "stdout",
          "text": [
            "🏆 Best Model: CatBoost with Accuracy: 0.8041\n",
            "✅ Best model saved as best_model.pkl\n"
          ]
        }
      ],
      "source": [
        "import pickle\n",
        "from sklearn.metrics import accuracy_score\n",
        "\n",
        "# Assume you already have X_train, X_test, y_train, y_test and models dict as before\n",
        "\n",
        "best_model_name = None\n",
        "best_model = None\n",
        "best_acc = 0\n",
        "\n",
        "for name, model in models.items():\n",
        "    model.fit(X_train, y_train)\n",
        "    y_pred = model.predict(X_test)\n",
        "    acc = accuracy_score(y_test, y_pred)\n",
        "\n",
        "    if acc > best_acc:\n",
        "        best_acc = acc\n",
        "        best_model = model\n",
        "        best_model_name = name\n",
        "\n",
        "print(f\"🏆 Best Model: {best_model_name} with Accuracy: {best_acc:.4f}\")\n",
        "\n",
        "# Save best model as pickle file\n",
        "with open(\"best_model.pkl\", \"wb\") as f:\n",
        "    pickle.dump(best_model, f)\n",
        "\n",
        "print(\"✅ Best model saved as best_model.pkl\")"
      ]
    },
    {
      "cell_type": "code",
      "source": [],
      "metadata": {
        "id": "EKR4QSRoICT4"
      },
      "execution_count": null,
      "outputs": []
    }
  ]
}